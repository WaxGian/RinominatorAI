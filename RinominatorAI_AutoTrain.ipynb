{
  "nbformat": 4,
  "nbformat_minor": 0,
  "metadata": {
    "colab": {
      "provenance": [],
      "gpuType": "T4"
    },
    "kernelspec": {
      "name": "python3",
      "display_name": "Python 3"
    },
    "language_info": {
      "name": "python"
    },
    "accelerator": "GPU"
  },
  "cells": [
    {
      "cell_type": "markdown",
      "source": [
        "# 🎓 RinominatorAI - Sistema di Training\n",
        "\n",
        "## 📋 Come funziona:\n",
        "1. **Carica PDF già rinominati** (esempi di training)\n",
        "2. **Il sistema impara** come hai rinominato i file\n",
        "3. **Applica** quello che ha imparato su nuovi PDF\n",
        "\n",
        "---\n",
        "\n",
        "## 🚀 Istruzioni:\n",
        "1. ▶️ Esegui le celle in ordine\n",
        "2. 📂 Carica i tuoi PDF quando richiesto\n",
        "3. ⏳ Attendi il training\n",
        "4. 🎉 Usa il modello per rinominare nuovi PDF!\n"
      ],
      "metadata": {
        "id": "header"
      }
    },
    {
      "cell_type": "markdown",
      "source": [
        "---\n",
        "## 1️⃣ SETUP - Installazione Dipendenze"
      ],
      "metadata": {
        "id": "setup_title"
      }
    },
    {
      "cell_type": "code",
      "source": [
        "print(\"🔧 Installazione dipendenze...\")\n",
        "print(\"⏱️ Questo richiederà 2-3 minuti...\\n\")\n",
        "\n",
        "!pip install -q PyMuPDF Pillow easyocr pandas python-dateutil scikit-learn numpy\n",
        "\n",
        "print(\"\\n✅ Dipendenze installate!\")"
      ],
      "metadata": {
        "id": "install"
      },
      "execution_count": null,
      "outputs": []
    },
    {
      "cell_type": "markdown",
      "source": [
        "---\n",
        "## 2️⃣ INIZIALIZZAZIONE - Import e Setup"
      ],
      "metadata": {
        "id": "init_title"
      }
    },
    {
      "cell_type": "code",
      "source": [
        "import fitz\n",
        "import easyocr\n",
        "import re\n",
        "import pickle\n",
        "from pathlib import Path\n",
        "from datetime import datetime\n",
        "from collections import Counter\n",
        "import numpy as np\n",
        "from sklearn.cluster import KMeans\n",
        "from sklearn.feature_extraction.text import TfidfVectorizer\n",
        "from sklearn.ensemble import RandomForestClassifier\n",
        "from sklearn.model_selection import cross_val_score\n",
        "from google.colab import files\n",
        "import zipfile\n",
        "import os\n",
        "import shutil\n",
        "\n",
        "print(\"✅ Import completati!\")\n",
        "\n",
        "print(\"\\n🔍 Inizializzazione OCR (EasyOCR)...\")\n",
        "reader = easyocr.Reader(['it', 'en'], gpu=True)\n",
        "print(\"✅ OCR pronto!\")"
      ],
      "metadata": {
        "id": "imports"
      },
      "execution_count": null,
      "outputs": []
    },
    {
      "cell_type": "markdown",
      "source": [
        "---\n",
        "## 3️⃣ FUNZIONI DI UTILITÀ"
      ],
      "metadata": {
        "id": "functions_title"
      }
    },
    {
      "cell_type": "code",
      "source": [
        "def pdf_to_image(pdf_path):\n",
        "    doc = fitz.open(pdf_path)\n",
        "    page = doc[0]\n",
        "    pix = page.get_pixmap(dpi=200)\n",
        "    img_path = pdf_path.replace('.pdf', '_page1.png')\n",
        "    pix.save(img_path)\n",
        "    doc.close()\n",
        "    return img_path\n",
        "\n",
        "def extract_text_with_ocr(image_path):\n",
        "    results = reader.readtext(image_path)\n",
        "    extracted = []\n",
        "    for bbox, text, confidence in results:\n",
        "        x_coords = [point[0] for point in bbox]\n",
        "        y_coords = [point[1] for point in bbox]\n",
        "        center_x = sum(x_coords) / len(x_coords)\n",
        "        center_y = sum(y_coords) / len(y_coords)\n",
        "        extracted.append({\n",
        "            'text': text,\n",
        "            'confidence': confidence,\n",
        "            'x': center_x / 2000,\n",
        "            'y': center_y / 3000,\n",
        "            'bbox': bbox\n",
        "        })\n",
        "    return extracted\n",
        "\n",
        "def parse_filename(filename):\n",
        "    name = filename.replace('.pdf', '').replace('.PDF', '')\n",
        "    pattern1 = r'^(.+?)\\s+([A-Z0-9\\-/]+)\\s+del\\s+(.+)$'\n",
        "    match = re.match(pattern1, name, re.IGNORECASE)\n",
        "    if match:\n",
        "        return {\n",
        "            'denominazione': match.group(1).strip(),\n",
        "            'numero_documento': match.group(2).strip(),\n",
        "            'data_documento': match.group(3).strip()\n",
        "        }\n",
        "    pattern2 = r'^(.+?)[\\s_\\-]+([A-Z0-9\\-/]+)[\\s_\\-]+(.+)$'\n",
        "    match = re.match(pattern2, name)\n",
        "    if match:\n",
        "        parts = [p.strip() for p in [match.group(1), match.group(2), match.group(3)]]\n",
        "        date_pattern = r'\\d{1,2}[-/]\\d{1,2}[-/]\\d{2,4}'\n",
        "        if re.search(date_pattern, parts[2]):\n",
        "            return {\n",
        "                'denominazione': parts[0],\n",
        "                'numero_documento': parts[1],\n",
        "                'data_documento': parts[2]\n",
        "            }\n",
        "    date_match = re.search(r'\\d{1,2}[-/]\\d{1,2}[-/]\\d{2,4}', name)\n",
        "    number_match = re.search(r'\\b[A-Z]{0,3}\\d{3,}\\b|\\b\\d{3,}\\b', name)\n",
        "    if date_match and number_match:\n",
        "        data = date_match.group(0)\n",
        "        numero = number_match.group(0)\n",
        "        denom_end = name.find(numero)\n",
        "        denominazione = name[:denom_end].strip(' -_')\n",
        "        return {\n",
        "            'denominazione': denominazione,\n",
        "            'numero_documento': numero,\n",
        "            'data_documento': data\n",
        "        }\n",
        "    print(f\"⚠️ Impossibile parsificare: {filename}\")\n",
        "    return None\n",
        "\n",
        "def fuzzy_find_text(search_text, ocr_data, threshold=0.6):\n",
        "    search_text = search_text.lower().strip()\n",
        "    search_words = set(search_text.split())\n",
        "    best_match = None\n",
        "    best_score = 0\n",
        "    for item in ocr_data:\n",
        "        item_text = item['text'].lower().strip()\n",
        "        item_words = set(item_text.split())\n",
        "        if search_text in item_text or item_text in search_text:\n",
        "            return item\n",
        "        if not item_words or not search_words:\n",
        "            continue\n",
        "        intersection = len(search_words & item_words)\n",
        "        union = len(search_words | item_words)\n",
        "        score = intersection / union\n",
        "        if score > best_score and score >= threshold:\n",
        "            best_score = score\n",
        "            best_match = item\n",
        "    return best_match\n",
        "\n",
        "def clean_filename(text):\n",
        "    text = re.sub(r'[<>:\"/\\\\\\\\|?*]', '', text)\n",
        "    return text[:150].strip()\n",
        "\n",
        "print(\"✅ Funzioni caricate!\")"
      ],
      "metadata": {
        "id": "functions"
      },
      "execution_count": null,
      "outputs": []
    },
    {
      "cell_type": "markdown",
      "source": [
        "---\n",
        "## 4️⃣ CARICA PDF DI TRAINING\n",
        "\n",
        "⚠️ **IMPORTANTE**: Carica almeno 10-15 PDF **già rinominati correttamente**!\n",
        "\n",
        "Esempio di nomi corretti:\n",
        "- `Fornitore ABC 12345 del 15-01-2024.pdf`\n",
        "- `Azienda XYZ FT-2024-001 del 20-03-2024.pdf`"
      ],
      "metadata": {
        "id": "upload_training_title"
      }
    },
    {
      "cell_type": "code",
      "source": [
        "print(\"📂 CARICA I TUOI PDF DI TRAINING\")\n",
        "print(\"(Seleziona più file tenendo premuto Ctrl/Cmd)\\n\")\n",
        "\n",
        "!mkdir -p pdf_training\n",
        "\n",
        "uploaded = files.upload()\n",
        "\n",
        "training_files = []\n",
        "for filename in uploaded.keys():\n",
        "    with open(f'pdf_training/{filename}', 'wb') as f:\n",
        "        f.write(uploaded[filename])\n",
        "    training_files.append(f'pdf_training/{filename}')\n",
        "\n",
        "print(f\"\\n✅ Caricati {len(training_files)} PDF!\")\n",
        "\n",
        "if len(training_files) < 5:\n",
        "    print(\"\\n⚠️ ATTENZIONE: Hai caricato pochi PDF!\")\n",
        "    print(\"   Per un buon training servono almeno 10-15 PDF.\")"
      ],
      "metadata": {
        "id": "upload_training"
      },
      "execution_count": null,
      "outputs": []
    },
    {
      "cell_type": "markdown",
      "source": [
        "---\n",
        "## 5️⃣ TRAINING - Impara dai PDF"
      ],
      "metadata": {
        "id": "training_title"
      }
    },
    {
      "cell_type": "code",
      "source": [
        "print(\"\\n\" + \"=\"*60)\n",
        "print(\"🎓 INIZIO TRAINING\")\n",
        "print(\"=\"*60 + \"\\n\")\n",
        "\n",
        "training_data = []\n",
        "\n",
        "for i, pdf_path in enumerate(training_files, 1):\n",
        "    filename = os.path.basename(pdf_path)\n",
        "    print(f\"📄 [{i}/{len(training_files)}] Analisi: {filename}\")\n",
        "    try:\n",
        "        fields = parse_filename(filename)\n",
        "        if not fields:\n",
        "            print(\"  ❌ Nome non parsificabile, saltato\\n\")\n",
        "            continue\n",
        "        print(f\"  ✓ Denominazione: {fields['denominazione']}\")\n",
        "        print(f\"  ✓ Numero: {fields['numero_documento']}\")\n",
        "        print(f\"  ✓ Data: {fields['data_documento']}\")\n",
        "        image_path = pdf_to_image(pdf_path)\n",
        "        ocr_data = extract_text_with_ocr(image_path)\n",
        "        print(f\"  ✓ OCR: {len(ocr_data)} elementi trovati\")\n",
        "        associations = {}\n",
        "        denom = fuzzy_find_text(fields['denominazione'], ocr_data, 0.5)\n",
        "        if denom:\n",
        "            associations['denominazione'] = denom\n",
        "        numero = fuzzy_find_text(fields['numero_documento'], ocr_data, 0.8)\n",
        "        if numero:\n",
        "            associations['numero_documento'] = numero\n",
        "        data = fuzzy_find_text(fields['data_documento'], ocr_data, 0.7)\n",
        "        if data:\n",
        "            associations['data_documento'] = data\n",
        "        training_data.append({\n",
        "            'filename': filename,\n",
        "            'fields': fields,\n",
        "            'ocr_data': ocr_data,\n",
        "            'associations': associations\n",
        "        })\n",
        "        print(f\"  ✓ Associazioni: {len(associations)}/3\\n\")\n",
        "    except Exception as e:\n",
        "        print(f\"  ❌ Errore: {e}\\n\")\n",
        "\n",
        "print(f\"\\n✅ Raccolti {len(training_data)} esempi validi!\")\n",
        "\n",
        "if len(training_data) < 3:\n",
        "    print(\"\\n❌ ERRORE: Troppi pochi esempi validi!\")\n",
        "else:\n",
        "    print(\"\\n✅ Dati pronti per il training ML!\")"
      ],
      "metadata": {
        "id": "training_collection"
      },
      "execution_count": null,
      "outputs": []
    },
    {
      "cell_type": "markdown",
      "source": [
        "---\n",
        "## 6️⃣ MACHINE LEARNING - Training Modelli"
      ],
      "metadata": {
        "id": "ml_title"
      }
    },
    {
      "cell_type": "code",
      "source": [
        "print(\"\\n🤖 TRAINING MODELLI MACHINE LEARNING...\\n\")\n",
        "\n",
        "print(\"  ├─ Analisi zone posizionali...\")\n",
        "zone_patterns = {}\n",
        "\n",
        "for field in ['denominazione', 'numero_documento', 'data_documento']:\n",
        "    positions = []\n",
        "    for ex in training_data:\n",
        "        if field in ex['associations']:\n",
        "            item = ex['associations'][field]\n",
        "            positions.append([item['x'], item['y']])\n",
        "    if positions:\n",
        "        positions = np.array(positions)\n",
        "        zone_patterns[field] = {\n",
        "            'x_range': (float(positions[:, 0].min()), float(positions[:, 0].max())),\n",
        "            'y_range': (float(positions[:, 1].min()), float(positions[:, 1].max())),\n",
        "            'x_mean': float(positions[:, 0].mean()),\n",
        "            'y_mean': float(positions[:, 1].mean())\n",
        "        }\n",
        "\n",
        "print(f\"  ✓ Zone identificate: {len(zone_patterns)}\")\n",
        "\n",
        "print(\"\\n  ├─ Training classificatori di testo...\")\n",
        "text_classifiers = {}\n",
        "vectorizers = {}\n",
        "accuracies = {}\n",
        "\n",
        "def is_fuzzy_match(text1, text2, threshold=0.6):\n",
        "    text1 = text1.lower().strip()\n",
        "    text2 = text2.lower().strip()\n",
        "    if text1 == text2 or text1 in text2 or text2 in text1:\n",
        "        return True\n",
        "    words1 = set(text1.split())\n",
        "    words2 = set(text2.split())\n",
        "    if not words1 or not words2:\n",
        "        return False\n",
        "    return (len(words1 & words2) / len(words1 | words2)) >= threshold\n",
        "\n",
        "for field in ['denominazione', 'numero_documento', 'data_documento']:\n",
        "    texts = []\n",
        "    labels = []\n",
        "    for ex in training_data:\n",
        "        ground_truth = ex['fields'][field]\n",
        "        for item in ex['ocr_data']:\n",
        "            texts.append(item['text'])\n",
        "            labels.append(1 if is_fuzzy_match(item['text'], ground_truth) else 0)\n",
        "    if len(set(labels)) >= 2:\n",
        "        vectorizer = TfidfVectorizer(max_features=100, ngram_range=(1, 2))\n",
        "        X = vectorizer.fit_transform(texts)\n",
        "        clf = RandomForestClassifier(n_estimators=50, random_state=42, max_depth=10)\n",
        "        scores = cross_val_score(clf, X, labels, cv=min(3, len(training_data)))\n",
        "        acc = scores.mean()\n",
        "        clf.fit(X, labels)\n",
        "        text_classifiers[field] = clf\n",
        "        vectorizers[field] = vectorizer\n",
        "        accuracies[field] = acc\n",
        "        print(f\"    ✓ {field}: {acc:.1%} accuracy\")\n",
        "\n",
        "avg_accuracy = sum(accuracies.values()) / len(accuracies) if accuracies else 0\n",
        "print(f\"\\n  ✓ Accuratezza media: {avg_accuracy:.1%}\")\n",
        "\n",
        "print(\"\\n  ├─ Salvataggio modello...\")\n",
        "model_data = {\n",
        "    'zone_patterns': zone_patterns,\n",
        "    'text_classifiers': text_classifiers,\n",
        "    'vectorizers': vectorizers,\n",
        "    'stats': {\n",
        "        'n_samples': len(training_data),\n",
        "        'accuracy': avg_accuracy,\n",
        "        'training_date': datetime.now().isoformat()\n",
        "    }\n",
        "}\n",
        "\n",
        "with open('trained_model.pkl', 'wb') as f:\n",
        "    pickle.dump(model_data, f)\n",
        "\n",
        "print(\"  ✓ Modello salvato: trained_model.pkl\")\n",
        "print(\"\\n\" + \"=\"*60)\n",
        "print(\"✅ TRAINING COMPLETATO!\")\n",
        "print(\"=\"*60)\n",
        "print(f\"📊 STATISTICHE:\")\n",
        "print(f\"  - Documenti: {len(training_data)}\")\n",
        "print(f\"  - Accuratezza: {avg_accuracy:.1%}\")\n",
        "print(f\"  - Zone: {len(zone_patterns)}\")\n",
        "print(f\"  - Modelli: {len(text_classifiers)}\")\n",
        "print(\"=\"*60 + \"\\n\")"
      ],
      "metadata": {
        "id": "ml_training"
      },
      "execution_count": null,
      "outputs": []
    },
    {
      "cell_type": "markdown",
      "source": [
        "---\n",
        "## 7️⃣ CARICA NUOVI PDF DA RINOMINARE"
      ],
      "metadata": {
        "id": "upload_new_title"
      }
    },
    {
      "cell_type": "code",
      "source": [
        "print(\"📂 CARICA I PDF DA RINOMINARE\\n\")\n",
        "\n",
        "!mkdir -p pdf_input\n",
        "\n",
        "uploaded_new = files.upload()\n",
        "\n",
        "input_files = []\n",
        "for filename in uploaded_new.keys():\n",
        "    with open(f'pdf_input/{filename}', 'wb') as f:\n",
        "        f.write(uploaded_new[filename])\n",
        "    input_files.append(f'pdf_input/{filename}')\n",
        "\n",
        "print(f\"\\n✅ Caricati {len(input_files)} PDF da processare!\")"
      ],
      "metadata": {
        "id": "upload_new"
      },
      "execution_count": null,
      "outputs": []
    },
    {
      "cell_type": "markdown",
      "source": [
        "---\n",
        "## 8️⃣ PREDIZIONE - Rinomina Automaticamente!"
      ],
      "metadata": {
        "id": "prediction_title"
      }
    },
    {
      "cell_type": "code",
      "source": [
        "print(\"\\n\" + \"=\"*60)\n",
        "print(\"🤖 MODALITÀ PREDIZIONE\")\n",
        "print(\"=\"*60 + \"\\n\")\n",
        "\n",
        "with open('trained_model.pkl', 'rb') as f:\n",
        "    model = pickle.load(f)\n",
        "\n",
        "zone_patterns = model['zone_patterns']\n",
        "text_classifiers = model['text_classifiers']\n",
        "vectorizers = model['vectorizers']\n",
        "stats = model['stats']\n",
        "\n",
        "print(f\"✓ Modello caricato (acc: {stats['accuracy']:.1%})\\n\")\n",
        "\n",
        "!mkdir -p pdf_output\n",
        "\n",
        "for i, pdf_path in enumerate(input_files, 1):\n",
        "    filename = os.path.basename(pdf_path)\n",
        "    print(f\"📄 [{i}/{len(input_files)}] {filename}\")\n",
        "    try:\n",
        "        print(\"  🔍 OCR...\")\n",
        "        image_path = pdf_to_image(pdf_path)\n",
        "        ocr_data = extract_text_with_ocr(image_path)\n",
        "        print(\"  🤖 Predizione...\")\n",
        "        predicted_fields = {}\n",
        "        confidences = {}\n",
        "        for field in ['denominazione', 'numero_documento', 'data_documento']:\n",
        "            if field not in text_classifiers:\n",
        "                predicted_fields[field] = \"N/A\"\n",
        "                confidences[field] = 0.0\n",
        "                continue\n",
        "            clf = text_classifiers[field]\n",
        "            vec = vectorizers[field]\n",
        "            zone = zone_patterns.get(field)\n",
        "            candidates = []\n",
        "            for item in ocr_data:\n",
        "                if zone:\n",
        "                    x, y = item['x'], item['y']\n",
        "                    x_min, x_max = zone['x_range']\n",
        "                    y_min, y_max = zone['y_range']\n",
        "                    margin = 0.2\n",
        "                    if x_min-margin <= x <= x_max+margin and y_min-margin <= y <= y_max+margin:\n",
        "                        candidates.append(item)\n",
        "                else:\n",
        "                    candidates.append(item)\n",
        "            if not candidates:\n",
        "                candidates = ocr_data\n",
        "            texts = [c['text'] for c in candidates]\n",
        "            X = vec.transform(texts)\n",
        "            probs = clf.predict_proba(X)[:, 1]\n",
        "            best_idx = np.argmax(probs)\n",
        "            best_prob = probs[best_idx]\n",
        "            if best_prob >= 0.6:\n",
        "                predicted_fields[field] = candidates[best_idx]['text']\n",
        "                confidences[field] = best_prob\n",
        "            else:\n",
        "                predicted_fields[field] = \"N/A\"\n",
        "                confidences[field] = best_prob\n",
        "        print(f\"    ✓ {predicted_fields['denominazione']} ({confidences['denominazione']:.0%})\")\n",
        "        print(f\"    ✓ {predicted_fields['numero_documento']} ({confidences['numero_documento']:.0%})\")\n",
        "        print(f\"    ✓ {predicted_fields['data_documento']} ({confidences['data_documento']:.0%})\")\n",
        "        new_name = f\"{predicted_fields['denominazione']} {predicted_fields['numero_documento']} del {predicted_fields['data_documento']}.pdf\"\n",
        "        new_name = clean_filename(new_name)\n",
        "        new_path = f'pdf_output/{new_name}'\n",
        "        shutil.copy2(pdf_path, new_path)\n",
        "        print(f\"  ✅ {new_name}\\n\")\n",
        "    except Exception as e:\n",
        "        print(f\"  ❌ Errore: {e}\\n\")\n",
        "\n",
        "print(\"\\n✅ COMPLETATO!\\n\")"
      ],
      "metadata": {
        "id": "prediction"
      },
      "execution_count": null,
      "outputs": []
    },
    {
      "cell_type": "markdown",
      "source": [
        "---\n",
        "## 9️⃣ SCARICA RISULTATI"
      ],
      "metadata": {
        "id": "download_title"
      }
    },
    {
      "cell_type": "code",
      "source": [
        "print(\"📦 Creazione ZIP...\\n\")\n",
        "\n",
        "!zip -r pdf_rinominati.zip pdf_output/\n",
        "\n",
        "print(\"\\n✅ Download...\\n\")\n",
        "files.download('pdf_rinominati.zip')\n",
        "\n",
        "print(\"\\n🎉 FATTO!\")"
      ],
      "metadata": {
        "id": "download"
      },
      "execution_count": null,
      "outputs": []
    }
  ]
}
